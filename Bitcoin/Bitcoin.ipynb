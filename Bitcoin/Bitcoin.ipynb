{
 "cells": [
  {
   "cell_type": "code",
   "execution_count": 1,
   "metadata": {},
   "outputs": [],
   "source": [
    "from sklearn.model_selection import train_test_split\n",
    "from sklearn.metrics import mean_absolute_error, mean_squared_error, r2_score\n",
    "from sklearn.metrics import accuracy_score\n",
    "\n",
    "import pandas as pd\n",
    "import numpy as np\n",
    "\n",
    "import pickle\n",
    "from matplotlib import pyplot as plt"
   ]
  },
  {
   "cell_type": "markdown",
   "metadata": {},
   "source": [
    "Import Bitcoin Data"
   ]
  },
  {
   "cell_type": "code",
   "execution_count": 2,
   "metadata": {},
   "outputs": [
    {
     "data": {
      "text/html": [
       "<div>\n",
       "<style scoped>\n",
       "    .dataframe tbody tr th:only-of-type {\n",
       "        vertical-align: middle;\n",
       "    }\n",
       "\n",
       "    .dataframe tbody tr th {\n",
       "        vertical-align: top;\n",
       "    }\n",
       "\n",
       "    .dataframe thead th {\n",
       "        text-align: right;\n",
       "    }\n",
       "</style>\n",
       "<table border=\"1\" class=\"dataframe\">\n",
       "  <thead>\n",
       "    <tr style=\"text-align: right;\">\n",
       "      <th></th>\n",
       "      <th>SNo</th>\n",
       "      <th>Date</th>\n",
       "      <th>Price</th>\n",
       "      <th>Open</th>\n",
       "      <th>High</th>\n",
       "      <th>Low</th>\n",
       "      <th>Vol.</th>\n",
       "      <th>Change %</th>\n",
       "    </tr>\n",
       "  </thead>\n",
       "  <tbody>\n",
       "    <tr>\n",
       "      <th>0</th>\n",
       "      <td>1</td>\n",
       "      <td>2010-07-18</td>\n",
       "      <td>0.1</td>\n",
       "      <td>0.0</td>\n",
       "      <td>0.1</td>\n",
       "      <td>0.1</td>\n",
       "      <td>80.0</td>\n",
       "      <td>0.00</td>\n",
       "    </tr>\n",
       "    <tr>\n",
       "      <th>1</th>\n",
       "      <td>2</td>\n",
       "      <td>2010-07-19</td>\n",
       "      <td>0.1</td>\n",
       "      <td>0.1</td>\n",
       "      <td>0.1</td>\n",
       "      <td>0.1</td>\n",
       "      <td>570.0</td>\n",
       "      <td>0.00</td>\n",
       "    </tr>\n",
       "    <tr>\n",
       "      <th>2</th>\n",
       "      <td>3</td>\n",
       "      <td>2010-07-20</td>\n",
       "      <td>0.1</td>\n",
       "      <td>0.1</td>\n",
       "      <td>0.1</td>\n",
       "      <td>0.1</td>\n",
       "      <td>260.0</td>\n",
       "      <td>0.00</td>\n",
       "    </tr>\n",
       "    <tr>\n",
       "      <th>3</th>\n",
       "      <td>4</td>\n",
       "      <td>2010-07-21</td>\n",
       "      <td>0.1</td>\n",
       "      <td>0.1</td>\n",
       "      <td>0.1</td>\n",
       "      <td>0.1</td>\n",
       "      <td>580.0</td>\n",
       "      <td>0.00</td>\n",
       "    </tr>\n",
       "    <tr>\n",
       "      <th>4</th>\n",
       "      <td>5</td>\n",
       "      <td>2010-07-22</td>\n",
       "      <td>0.1</td>\n",
       "      <td>0.1</td>\n",
       "      <td>0.1</td>\n",
       "      <td>0.1</td>\n",
       "      <td>2160.0</td>\n",
       "      <td>0.00</td>\n",
       "    </tr>\n",
       "    <tr>\n",
       "      <th>...</th>\n",
       "      <td>...</td>\n",
       "      <td>...</td>\n",
       "      <td>...</td>\n",
       "      <td>...</td>\n",
       "      <td>...</td>\n",
       "      <td>...</td>\n",
       "      <td>...</td>\n",
       "      <td>...</td>\n",
       "    </tr>\n",
       "    <tr>\n",
       "      <th>4051</th>\n",
       "      <td>4052</td>\n",
       "      <td>2021-08-20</td>\n",
       "      <td>49324.0</td>\n",
       "      <td>46756.7</td>\n",
       "      <td>49343.3</td>\n",
       "      <td>46646.8</td>\n",
       "      <td>83190.0</td>\n",
       "      <td>5.49</td>\n",
       "    </tr>\n",
       "    <tr>\n",
       "      <th>4052</th>\n",
       "      <td>4053</td>\n",
       "      <td>2021-08-21</td>\n",
       "      <td>48875.8</td>\n",
       "      <td>49330.0</td>\n",
       "      <td>49719.1</td>\n",
       "      <td>48293.5</td>\n",
       "      <td>18200.0</td>\n",
       "      <td>-0.91</td>\n",
       "    </tr>\n",
       "    <tr>\n",
       "      <th>4053</th>\n",
       "      <td>4054</td>\n",
       "      <td>2021-08-22</td>\n",
       "      <td>49254.5</td>\n",
       "      <td>48870.4</td>\n",
       "      <td>49480.3</td>\n",
       "      <td>48151.0</td>\n",
       "      <td>49320.0</td>\n",
       "      <td>0.77</td>\n",
       "    </tr>\n",
       "    <tr>\n",
       "      <th>4054</th>\n",
       "      <td>4055</td>\n",
       "      <td>2021-08-23</td>\n",
       "      <td>49539.7</td>\n",
       "      <td>49255.4</td>\n",
       "      <td>50498.8</td>\n",
       "      <td>49038.6</td>\n",
       "      <td>75370.0</td>\n",
       "      <td>0.58</td>\n",
       "    </tr>\n",
       "    <tr>\n",
       "      <th>4055</th>\n",
       "      <td>4056</td>\n",
       "      <td>2021-08-24</td>\n",
       "      <td>49768.2</td>\n",
       "      <td>49532.5</td>\n",
       "      <td>49847.4</td>\n",
       "      <td>48812.4</td>\n",
       "      <td>61160.0</td>\n",
       "      <td>0.46</td>\n",
       "    </tr>\n",
       "  </tbody>\n",
       "</table>\n",
       "<p>4056 rows × 8 columns</p>\n",
       "</div>"
      ],
      "text/plain": [
       "       SNo        Date    Price     Open     High      Low     Vol.  Change %\n",
       "0        1  2010-07-18      0.1      0.0      0.1      0.1     80.0      0.00\n",
       "1        2  2010-07-19      0.1      0.1      0.1      0.1    570.0      0.00\n",
       "2        3  2010-07-20      0.1      0.1      0.1      0.1    260.0      0.00\n",
       "3        4  2010-07-21      0.1      0.1      0.1      0.1    580.0      0.00\n",
       "4        5  2010-07-22      0.1      0.1      0.1      0.1   2160.0      0.00\n",
       "...    ...         ...      ...      ...      ...      ...      ...       ...\n",
       "4051  4052  2021-08-20  49324.0  46756.7  49343.3  46646.8  83190.0      5.49\n",
       "4052  4053  2021-08-21  48875.8  49330.0  49719.1  48293.5  18200.0     -0.91\n",
       "4053  4054  2021-08-22  49254.5  48870.4  49480.3  48151.0  49320.0      0.77\n",
       "4054  4055  2021-08-23  49539.7  49255.4  50498.8  49038.6  75370.0      0.58\n",
       "4055  4056  2021-08-24  49768.2  49532.5  49847.4  48812.4  61160.0      0.46\n",
       "\n",
       "[4056 rows x 8 columns]"
      ]
     },
     "execution_count": 2,
     "metadata": {},
     "output_type": "execute_result"
    }
   ],
   "source": [
    "bitcoinData = pd.read_csv(\"Bitcoin.csv\")\n",
    "bitcoinData"
   ]
  },
  {
   "cell_type": "markdown",
   "metadata": {},
   "source": [
    "Plotting Data: Data entry (by date) vs. Highest Price of the Day"
   ]
  },
  {
   "cell_type": "code",
   "execution_count": 3,
   "metadata": {},
   "outputs": [
    {
     "data": {
      "text/plain": [
       "Text(0, 0.5, 'Highest Price of the day')"
      ]
     },
     "execution_count": 3,
     "metadata": {},
     "output_type": "execute_result"
    },
    {
     "data": {
      "image/png": "[encoded data removed]",
      "text/plain": [
       "<Figure size 432x288 with 1 Axes>"
      ]
     },
     "metadata": {
      "needs_background": "light"
     },
     "output_type": "display_data"
    }
   ],
   "source": [
    "plt.plot(bitcoinData.SNo, bitcoinData.High)\n",
    "plt.xlabel(\"SNo\")\n",
    "plt.ylabel(\"Highest Price of the day\")"
   ]
  },
  {
   "cell_type": "markdown",
   "metadata": {},
   "source": [
    "Sanatize the data to start when Bitcoin began to increase drastically (December 1, 2017).\n",
    "Plot the updated dataset"
   ]
  },
  {
   "cell_type": "code",
   "execution_count": 4,
   "metadata": {},
   "outputs": [
    {
     "data": {
      "text/plain": [
       "Text(0, 0.5, 'Highest Price of the day')"
      ]
     },
     "execution_count": 4,
     "metadata": {},
     "output_type": "execute_result"
    },
    {
     "data": {
      "image/png": "[encoded data removed]",
      "text/plain": [
       "<Figure size 432x288 with 1 Axes>"
      ]
     },
     "metadata": {
      "needs_background": "light"
     },
     "output_type": "display_data"
    }
   ],
   "source": [
    "bitcoinData = bitcoinData.iloc[2694:]\n",
    "plt.plot(bitcoinData.SNo, bitcoinData.High)\n",
    "plt.xlabel(\"SNo\")\n",
    "plt.ylabel(\"Highest Price of the day\")"
   ]
  },
  {
   "cell_type": "markdown",
   "metadata": {},
   "source": [
    "Sanatize data so that the models can train the data, i.e. remove non-numerical Columns "
   ]
  },
  {
   "cell_type": "code",
   "execution_count": 5,
   "metadata": {},
   "outputs": [],
   "source": [
    "bitcoinData = bitcoinData.drop('Date', axis = 1)"
   ]
  },
  {
   "cell_type": "markdown",
   "metadata": {},
   "source": [
    "Splitting the data into a features matrix and a target array\n",
    "Creating a 75% train and 25% test split"
   ]
  },
  {
   "cell_type": "code",
   "execution_count": 6,
   "metadata": {},
   "outputs": [
    {
     "name": "stdout",
     "output_type": "stream",
     "text": [
      "(1362, 6) (1362,)\n"
     ]
    }
   ],
   "source": [
    "XBit = bitcoinData.drop('High', axis = 1)\n",
    "yBit = bitcoinData['High']\n",
    "yBit = yBit.astype(int)\n",
    "print(XBit.shape, yBit.shape)\n",
    "XBit_train, XBit_test, yBit_train, yBit_test = train_test_split(XBit, yBit, test_size=0.25, random_state=0)"
   ]
  },
  {
   "cell_type": "markdown",
   "metadata": {},
   "source": [
    "MODEL: LINEAR REGRESSION "
   ]
  },
  {
   "cell_type": "code",
   "execution_count": 7,
   "metadata": {},
   "outputs": [],
   "source": [
    "from sklearn.linear_model import LinearRegression\n",
    "model_lr = LinearRegression(fit_intercept = True)\n",
    "model_lr.fit(XBit_train, yBit_train)\n",
    "pred_lr = model_lr.predict(XBit_test)"
   ]
  },
  {
   "cell_type": "markdown",
   "metadata": {},
   "source": [
    "Series of test to see how accurate the model is."
   ]
  },
  {
   "cell_type": "code",
   "execution_count": 8,
   "metadata": {},
   "outputs": [
    {
     "data": {
      "text/plain": [
       "188.31021899463005"
      ]
     },
     "execution_count": 8,
     "metadata": {},
     "output_type": "execute_result"
    }
   ],
   "source": [
    "mean_absolute_error(yBit_test, pred_lr)"
   ]
  },
  {
   "cell_type": "code",
   "execution_count": 9,
   "metadata": {},
   "outputs": [
    {
     "name": "stdout",
     "output_type": "stream",
     "text": [
      "Train accuracy is 99.95 \n",
      "Test accuracy is 99.94 \n"
     ]
    }
   ],
   "source": [
    "print(\"Train accuracy is %.2f \" % (model_lr.score(XBit_train, yBit_train)*100))\n",
    "print(\"Test accuracy is %.2f \" % (model_lr.score(XBit_test, yBit_test)*100))"
   ]
  },
  {
   "cell_type": "code",
   "execution_count": 10,
   "metadata": {},
   "outputs": [
    {
     "name": "stdout",
     "output_type": "stream",
     "text": [
      "Mean squared error: 140326.81\n"
     ]
    }
   ],
   "source": [
    "print(\"Mean squared error: %.2f\" % mean_squared_error(yBit_test, pred_lr))"
   ]
  },
  {
   "cell_type": "code",
   "execution_count": 11,
   "metadata": {},
   "outputs": [
    {
     "name": "stdout",
     "output_type": "stream",
     "text": [
      "Coefficient of determination: 1.00\n"
     ]
    }
   ],
   "source": [
    "print(\"Coefficient of determination: %.2f\" % r2_score(yBit_test, pred_lr))"
   ]
  },
  {
   "cell_type": "markdown",
   "metadata": {},
   "source": [
    "MODEL: EPSILON-SUPPORT VECTOER REGRESSION"
   ]
  },
  {
   "cell_type": "code",
   "execution_count": 12,
   "metadata": {},
   "outputs": [],
   "source": [
    "from sklearn.svm import SVR\n",
    "model_svr = SVR()\n",
    "model_svr.fit(XBit_train, yBit_train)\n",
    "pred_svr = model_svr.predict(XBit_test)"
   ]
  },
  {
   "cell_type": "markdown",
   "metadata": {},
   "source": [
    "Series of test to see how accurate the model is."
   ]
  },
  {
   "cell_type": "code",
   "execution_count": 13,
   "metadata": {},
   "outputs": [
    {
     "name": "stdout",
     "output_type": "stream",
     "text": [
      "Train accuracy is -15.78 \n",
      "Test accuracy is -18.23 \n"
     ]
    }
   ],
   "source": [
    "print(\"Train accuracy is %.2f \" % (model_svr.score(XBit_train, yBit_train)*100))\n",
    "print(\"Test accuracy is %.2f \" % (model_svr.score(XBit_test, yBit_test)*100))"
   ]
  },
  {
   "cell_type": "code",
   "execution_count": 14,
   "metadata": {},
   "outputs": [
    {
     "name": "stdout",
     "output_type": "stream",
     "text": [
      "Mean squared error: 277798601.06\n"
     ]
    }
   ],
   "source": [
    "print(\"Mean squared error: %.2f\" % mean_squared_error(yBit_test, pred_svr))"
   ]
  },
  {
   "cell_type": "code",
   "execution_count": 15,
   "metadata": {},
   "outputs": [
    {
     "name": "stdout",
     "output_type": "stream",
     "text": [
      "Coefficient of determination: -0.18\n"
     ]
    }
   ],
   "source": [
    "print(\"Coefficient of determination: %.2f\" % r2_score(yBit_test, pred_svr))"
   ]
  },
  {
   "cell_type": "markdown",
   "metadata": {},
   "source": [
    "MODEL: LOGISTIC REGRESSION"
   ]
  },
  {
   "cell_type": "code",
   "execution_count": 16,
   "metadata": {},
   "outputs": [
    {
     "name": "stderr",
     "output_type": "stream",
     "text": [
      "C:\\Users\\Tony\\anaconda3\\lib\\site-packages\\sklearn\\linear_model\\_logistic.py:762: ConvergenceWarning: lbfgs failed to converge (status=1):\n",
      "STOP: TOTAL NO. of ITERATIONS REACHED LIMIT.\n",
      "\n",
      "Increase the number of iterations (max_iter) or scale the data as shown in:\n",
      "    https://scikit-learn.org/stable/modules/preprocessing.html\n",
      "Please also refer to the documentation for alternative solver options:\n",
      "    https://scikit-learn.org/stable/modules/linear_model.html#logistic-regression\n",
      "  n_iter_i = _check_optimize_result(\n"
     ]
    }
   ],
   "source": [
    "from sklearn.linear_model import LogisticRegression\n",
    "model_log = LogisticRegression()\n",
    "model_log.fit(XBit_train, yBit_train)\n",
    "pred_log = model_log.predict(XBit_test)"
   ]
  },
  {
   "cell_type": "markdown",
   "metadata": {},
   "source": [
    "Series of test to see how accurate the model is."
   ]
  },
  {
   "cell_type": "code",
   "execution_count": 17,
   "metadata": {},
   "outputs": [
    {
     "name": "stdout",
     "output_type": "stream",
     "text": [
      "Accuracy score: 0.000000\n"
     ]
    }
   ],
   "source": [
    "print(\"Accuracy score: %f\" % accuracy_score(yBit_test, pred_log))"
   ]
  },
  {
   "cell_type": "code",
   "execution_count": 18,
   "metadata": {},
   "outputs": [
    {
     "name": "stdout",
     "output_type": "stream",
     "text": [
      "Train accuracy is 0.293830 \n",
      "Test accuracy is 0.000000 \n"
     ]
    }
   ],
   "source": [
    "print(\"Train accuracy is %f \" % (model_log.score(XBit_train, yBit_train)*100))\n",
    "print(\"Test accuracy is %f \" % (model_log.score(XBit_test, yBit_test)*100))"
   ]
  },
  {
   "cell_type": "code",
   "execution_count": 19,
   "metadata": {},
   "outputs": [
    {
     "name": "stdout",
     "output_type": "stream",
     "text": [
      "Mean squared error: 83544897.234604\n"
     ]
    }
   ],
   "source": [
    "print(\"Mean squared error: %f\" % mean_squared_error(yBit_test, pred_log))"
   ]
  },
  {
   "cell_type": "code",
   "execution_count": 20,
   "metadata": {},
   "outputs": [
    {
     "name": "stdout",
     "output_type": "stream",
     "text": [
      "Coefficient of determination: 0.644449\n"
     ]
    }
   ],
   "source": [
    "print(\"Coefficient of determination: %f\" % r2_score(yBit_test, pred_log))"
   ]
  },
  {
   "cell_type": "markdown",
   "metadata": {},
   "source": [
    "Pickle the models"
   ]
  },
  {
   "cell_type": "code",
   "execution_count": 21,
   "metadata": {},
   "outputs": [],
   "source": [
    "# pd.to_pickle(MODEL_OBJECT_NAME,r'FILE_PATH')\n",
    "\n",
    "# pd.to_pickle(model_lr,r'c:\\Users\\Tony\\Downloads\\model_lr.pickle')\n",
    "# pd.to_pickle(model_svr,r'c:\\Users\\Tony\\Downloads\\model_svr.pickle')\n",
    "# pd.to_pickle(model_log,r'c:\\Users\\Tony\\Downloads\\model_log.pickle')"
   ]
  }
 ],
 "metadata": {
  "kernelspec": {
   "display_name": "Python 3",
   "language": "python",
   "name": "python3"
  },
  "language_info": {
   "codemirror_mode": {
    "name": "ipython",
    "version": 3
   },
   "file_extension": ".py",
   "mimetype": "text/x-python",
   "name": "python",
   "nbconvert_exporter": "python",
   "pygments_lexer": "ipython3",
   "version": "3.8.3"
  }
 },
 "nbformat": 4,
 "nbformat_minor": 4
}
