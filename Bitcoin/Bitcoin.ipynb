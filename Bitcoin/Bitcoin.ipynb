{
 "cells": [
  {
   "cell_type": "code",
   "execution_count": 13,
   "metadata": {},
   "outputs": [
    {
     "name": "stdout",
     "output_type": "stream",
     "text": [
      "[3.77103859e+03 5.83775906e+04 5.89876227e+02 ... 1.23569701e+03\n",
      " 5.60035136e+01 1.26831358e+03]\n",
      "Train accuracy is 99.96 \n",
      "Test accuracy is 99.97 \n"
     ]
    }
   ],
   "source": [
    "from sklearn.linear_model import LinearRegression\n",
    "from sklearn.model_selection import train_test_split\n",
    "import pandas as pd\n",
    "\n",
    "bitcoinData = pd.read_csv(\"Bitcoin.csv\")\n",
    "bitcoinData\n",
    "\n",
    "# detect all time high\n",
    "# change with label encoder\n",
    "\n",
    "XBit = bitcoinData.drop('High', axis=1)\n",
    "XBit = XBit.drop('Date', axis=1)\n",
    "yBit = bitcoinData['High']\n",
    "\n",
    "# train\n",
    "XBit_train, XBit_test, yBit_train, yBit_test = train_test_split(XBit, yBit)\n",
    "model = LinearRegression()\n",
    "model.fit(XBit_train, yBit_train)\n",
    "\n",
    "#predict\n",
    "yBit_pred = model.predict(XBit_test)\n",
    "\n",
    "#score\n",
    "print(\"Train accuracy is %.2f \" % (model.score(XBit_train, yBit_train)*100))\n",
    "print(\"Test accuracy is %.2f \" % (model.score(XBit_test, yBit_test)*100))"
   ]
  },
  {
   "cell_type": "code",
   "execution_count": null,
   "metadata": {},
   "outputs": [],
   "source": []
  }
 ],
 "metadata": {
  "kernelspec": {
   "display_name": "Python 3",
   "language": "python",
   "name": "python3"
  },
  "language_info": {
   "codemirror_mode": {
    "name": "ipython",
    "version": 3
   },
   "file_extension": ".py",
   "mimetype": "text/x-python",
   "name": "python",
   "nbconvert_exporter": "python",
   "pygments_lexer": "ipython3",
   "version": "3.6.10"
  }
 },
 "nbformat": 4,
 "nbformat_minor": 2
}
