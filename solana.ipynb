{
 "cells": [
  {
   "cell_type": "code",
   "execution_count": 142,
   "metadata": {},
   "outputs": [],
   "source": [
    "import pandas as pd\n",
    "import numpy as np\n",
    "from matplotlib import pyplot as plt\n",
    "\n",
    "from sklearn.model_selection import train_test_split\n",
    "from sklearn.metrics import accuracy_score\n",
    "from sklearn.linear_model import LogisticRegression\n",
    "from sklearn.linear_model import LinearRegression\n"
   ]
  },
  {
   "cell_type": "code",
   "execution_count": 143,
   "metadata": {},
   "outputs": [
    {
     "data": {
      "text/html": [
       "<div>\n",
       "<style scoped>\n",
       "    .dataframe tbody tr th:only-of-type {\n",
       "        vertical-align: middle;\n",
       "    }\n",
       "\n",
       "    .dataframe tbody tr th {\n",
       "        vertical-align: top;\n",
       "    }\n",
       "\n",
       "    .dataframe thead th {\n",
       "        text-align: right;\n",
       "    }\n",
       "</style>\n",
       "<table border=\"1\" class=\"dataframe\">\n",
       "  <thead>\n",
       "    <tr style=\"text-align: right;\">\n",
       "      <th></th>\n",
       "      <th>SNo</th>\n",
       "      <th>Date</th>\n",
       "      <th>Price</th>\n",
       "      <th>Open</th>\n",
       "      <th>High</th>\n",
       "      <th>Low</th>\n",
       "      <th>Vol.</th>\n",
       "      <th>Change %</th>\n",
       "    </tr>\n",
       "  </thead>\n",
       "  <tbody>\n",
       "    <tr>\n",
       "      <th>0</th>\n",
       "      <td>1</td>\n",
       "      <td>2020-06-04</td>\n",
       "      <td>0.589</td>\n",
       "      <td>0.586</td>\n",
       "      <td>0.590</td>\n",
       "      <td>0.561</td>\n",
       "      <td>558950.0</td>\n",
       "      <td>0.55</td>\n",
       "    </tr>\n",
       "    <tr>\n",
       "      <th>1</th>\n",
       "      <td>2</td>\n",
       "      <td>2020-06-05</td>\n",
       "      <td>0.661</td>\n",
       "      <td>0.589</td>\n",
       "      <td>0.698</td>\n",
       "      <td>0.575</td>\n",
       "      <td>578560.0</td>\n",
       "      <td>12.27</td>\n",
       "    </tr>\n",
       "    <tr>\n",
       "      <th>2</th>\n",
       "      <td>3</td>\n",
       "      <td>2020-06-06</td>\n",
       "      <td>0.625</td>\n",
       "      <td>0.661</td>\n",
       "      <td>0.661</td>\n",
       "      <td>0.609</td>\n",
       "      <td>548270.0</td>\n",
       "      <td>-5.53</td>\n",
       "    </tr>\n",
       "    <tr>\n",
       "      <th>3</th>\n",
       "      <td>4</td>\n",
       "      <td>2020-06-07</td>\n",
       "      <td>0.608</td>\n",
       "      <td>0.625</td>\n",
       "      <td>0.626</td>\n",
       "      <td>0.591</td>\n",
       "      <td>426420.0</td>\n",
       "      <td>-2.62</td>\n",
       "    </tr>\n",
       "    <tr>\n",
       "      <th>4</th>\n",
       "      <td>5</td>\n",
       "      <td>2020-06-08</td>\n",
       "      <td>0.667</td>\n",
       "      <td>0.608</td>\n",
       "      <td>0.682</td>\n",
       "      <td>0.608</td>\n",
       "      <td>550090.0</td>\n",
       "      <td>9.63</td>\n",
       "    </tr>\n",
       "    <tr>\n",
       "      <th>...</th>\n",
       "      <td>...</td>\n",
       "      <td>...</td>\n",
       "      <td>...</td>\n",
       "      <td>...</td>\n",
       "      <td>...</td>\n",
       "      <td>...</td>\n",
       "      <td>...</td>\n",
       "      <td>...</td>\n",
       "    </tr>\n",
       "    <tr>\n",
       "      <th>440</th>\n",
       "      <td>441</td>\n",
       "      <td>2021-08-20</td>\n",
       "      <td>78.542</td>\n",
       "      <td>72.679</td>\n",
       "      <td>79.886</td>\n",
       "      <td>70.970</td>\n",
       "      <td>171510.0</td>\n",
       "      <td>8.07</td>\n",
       "    </tr>\n",
       "    <tr>\n",
       "      <th>441</th>\n",
       "      <td>442</td>\n",
       "      <td>2021-08-21</td>\n",
       "      <td>74.090</td>\n",
       "      <td>78.542</td>\n",
       "      <td>81.730</td>\n",
       "      <td>72.701</td>\n",
       "      <td>175070.0</td>\n",
       "      <td>-5.67</td>\n",
       "    </tr>\n",
       "    <tr>\n",
       "      <th>442</th>\n",
       "      <td>443</td>\n",
       "      <td>2021-08-22</td>\n",
       "      <td>73.076</td>\n",
       "      <td>74.090</td>\n",
       "      <td>77.440</td>\n",
       "      <td>71.552</td>\n",
       "      <td>179180.0</td>\n",
       "      <td>-1.37</td>\n",
       "    </tr>\n",
       "    <tr>\n",
       "      <th>443</th>\n",
       "      <td>444</td>\n",
       "      <td>2021-08-23</td>\n",
       "      <td>75.544</td>\n",
       "      <td>73.076</td>\n",
       "      <td>76.312</td>\n",
       "      <td>71.785</td>\n",
       "      <td>171960.0</td>\n",
       "      <td>3.38</td>\n",
       "    </tr>\n",
       "    <tr>\n",
       "      <th>444</th>\n",
       "      <td>445</td>\n",
       "      <td>2021-08-24</td>\n",
       "      <td>78.038</td>\n",
       "      <td>75.544</td>\n",
       "      <td>79.272</td>\n",
       "      <td>73.656</td>\n",
       "      <td>174720.0</td>\n",
       "      <td>3.30</td>\n",
       "    </tr>\n",
       "  </tbody>\n",
       "</table>\n",
       "<p>445 rows × 8 columns</p>\n",
       "</div>"
      ],
      "text/plain": [
       "     SNo        Date   Price    Open    High     Low      Vol.  Change %\n",
       "0      1  2020-06-04   0.589   0.586   0.590   0.561  558950.0      0.55\n",
       "1      2  2020-06-05   0.661   0.589   0.698   0.575  578560.0     12.27\n",
       "2      3  2020-06-06   0.625   0.661   0.661   0.609  548270.0     -5.53\n",
       "3      4  2020-06-07   0.608   0.625   0.626   0.591  426420.0     -2.62\n",
       "4      5  2020-06-08   0.667   0.608   0.682   0.608  550090.0      9.63\n",
       "..   ...         ...     ...     ...     ...     ...       ...       ...\n",
       "440  441  2021-08-20  78.542  72.679  79.886  70.970  171510.0      8.07\n",
       "441  442  2021-08-21  74.090  78.542  81.730  72.701  175070.0     -5.67\n",
       "442  443  2021-08-22  73.076  74.090  77.440  71.552  179180.0     -1.37\n",
       "443  444  2021-08-23  75.544  73.076  76.312  71.785  171960.0      3.38\n",
       "444  445  2021-08-24  78.038  75.544  79.272  73.656  174720.0      3.30\n",
       "\n",
       "[445 rows x 8 columns]"
      ]
     },
     "execution_count": 143,
     "metadata": {},
     "output_type": "execute_result"
    }
   ],
   "source": [
    "df = pd.read_csv('Solana.csv')\n",
    "\n",
    "df"
   ]
  },
  {
   "cell_type": "markdown",
   "metadata": {},
   "source": [
    "### Transfiguring Date"
   ]
  },
  {
   "cell_type": "markdown",
   "metadata": {},
   "source": []
  },
  {
   "cell_type": "code",
   "execution_count": 144,
   "metadata": {},
   "outputs": [
    {
     "data": {
      "text/plain": [
       "\"df['Date'] = pd.to_datetime(df['Date']) \\n\\ndf['Month'] = df['Date'].dt.month\\n\\ndf['Year'] = df['Date'].dt.year\\n\\ndf['Day'] = df['Date'].dt.day\\n\""
      ]
     },
     "execution_count": 144,
     "metadata": {},
     "output_type": "execute_result"
    }
   ],
   "source": [
    "'''df['Date'] = pd.to_datetime(df['Date']) \n",
    "\n",
    "df['Month'] = df['Date'].dt.month\n",
    "\n",
    "df['Year'] = df['Date'].dt.year\n",
    "\n",
    "df['Day'] = df['Date'].dt.day\n",
    "'''\n"
   ]
  },
  {
   "cell_type": "code",
   "execution_count": 145,
   "metadata": {},
   "outputs": [
    {
     "data": {
      "text/plain": [
       "\"df.isnull().sum() # checking to see if there are any null / NaN valuesa\\n\\ndf.drop('Date', axis=1)\""
      ]
     },
     "execution_count": 145,
     "metadata": {},
     "output_type": "execute_result"
    }
   ],
   "source": [
    "'''df.isnull().sum() # checking to see if there are any null / NaN valuesa\n",
    "\n",
    "df.drop('Date', axis=1)'''\n"
   ]
  },
  {
   "cell_type": "code",
   "execution_count": 146,
   "metadata": {},
   "outputs": [
    {
     "data": {
      "text/plain": [
       "\"x = df\\n\\nx = x.loc[(x['Month'] == 8) & (x['Year'] == 2021)]\\n\\n\\n# calculate ATH for a specific month's day\\nx = x.reset_index()\\nx = x.drop('index', axis=1)\\n\\n#x = ['Price', 'Open', 'High', 'Low', 'Change %', 'Vol.', 'Month']\\n#x = df[x].values\""
      ]
     },
     "execution_count": 146,
     "metadata": {},
     "output_type": "execute_result"
    }
   ],
   "source": [
    "'''x = df\n",
    "\n",
    "x = x.loc[(x['Month'] == 8) & (x['Year'] == 2021)]\n",
    "\n",
    "\n",
    "# calculate ATH for a specific month's day\n",
    "x = x.reset_index()\n",
    "x = x.drop('index', axis=1)\n",
    "\n",
    "#x = ['Price', 'Open', 'High', 'Low', 'Change %', 'Vol.', 'Month']\n",
    "#x = df[x].values'''"
   ]
  },
  {
   "cell_type": "code",
   "execution_count": 147,
   "metadata": {},
   "outputs": [
    {
     "data": {
      "text/plain": [
       "\"y = x['Day'].values\\n\\nx = x.drop('Day', axis=1)\\n\\nx = x.values\\n\\nXtrain, Xtest, ytrain, ytest = train_test_split(x, y, test_size=0.25, random_state=42)\""
      ]
     },
     "execution_count": 147,
     "metadata": {},
     "output_type": "execute_result"
    }
   ],
   "source": [
    "'''y = x['Day'].values\n",
    "\n",
    "x = x.drop('Day', axis=1)\n",
    "\n",
    "x = x.values\n",
    "\n",
    "Xtrain, Xtest, ytrain, ytest = train_test_split(x, y, test_size=0.25, random_state=42)'''\n"
   ]
  },
  {
   "cell_type": "code",
   "execution_count": 148,
   "metadata": {},
   "outputs": [
    {
     "data": {
      "text/plain": [
       "'model = LinearRegression(fit_intercept=True)\\n\\nmodel.fit(Xtrain, ytrain)\\n\\n'"
      ]
     },
     "execution_count": 148,
     "metadata": {},
     "output_type": "execute_result"
    }
   ],
   "source": [
    "'''model = LinearRegression(fit_intercept=True)\n",
    "\n",
    "model.fit(Xtrain, ytrain)\n",
    "\n",
    "'''"
   ]
  },
  {
   "cell_type": "code",
   "execution_count": null,
   "metadata": {},
   "outputs": [],
   "source": []
  }
 ],
 "metadata": {
  "interpreter": {
   "hash": "32cec0279b6c84416ef4caa4b379975b7f6d8a7cee486709a69b2b60325f3215"
  },
  "kernelspec": {
   "display_name": "Python 3.10.0 64-bit ('env': venv)",
   "language": "python",
   "name": "python3"
  },
  "language_info": {
   "codemirror_mode": {
    "name": "ipython",
    "version": 3
   },
   "file_extension": ".py",
   "mimetype": "text/x-python",
   "name": "python",
   "nbconvert_exporter": "python",
   "pygments_lexer": "ipython3",
   "version": "3.10.0"
  },
  "orig_nbformat": 4
 },
 "nbformat": 4,
 "nbformat_minor": 2
}
